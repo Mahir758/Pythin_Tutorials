{
 "cells": [
  {
   "cell_type": "markdown",
   "metadata": {},
   "source": [
    "In this chapter we're gonna be learning something pretty important, something you can probably pull through without but honestly it makes everything a whole lot easier and its called, functions.\n",
    "\n",
    "No, they are not exactly mathematical functions you learn at school like f(x) or g(x), but they have more uses. \n",
    "\n",
    "Lets look at how to create a functions for starters."
   ]
  },
  {
   "cell_type": "code",
   "execution_count": null,
   "metadata": {},
   "outputs": [],
   "source": [
    "def randomFunction():\n",
    "    print(\"this is a random function\")"
   ]
  },
  {
   "cell_type": "markdown",
   "metadata": {},
   "source": [
    "Right here I defined a function and I named it randomFunction(). In the function the command I gave was to print out \"this is a random function\". Now how do I make this function happen. Well for starters, we dont call it 'making it happen', we \"call\" the function. So the way we call the function is as follows"
   ]
  },
  {
   "cell_type": "code",
   "execution_count": null,
   "metadata": {},
   "outputs": [],
   "source": [
    "randomFunction()"
   ]
  },
  {
   "cell_type": "markdown",
   "metadata": {},
   "source": [
    "Now we aren't going to make our functions do something as simple as print a line out. You can put in anything you want to carry out inside of the function. So if-else statements, while loops, basic maths, anything you can think of, you can put inside the function. now why are functions like this useful. Well they help reduce a lot of space for repetitive tasks. \n",
    "\n",
    "Lets say I have a robotic car and I want to move it everytime I press an arrow key. So instead of manually making the the motors, that run the car, turn on, I can define a function that would make the car go forward or go left or go right or go back. Let me a show you a very basic outline of what that may look like"
   ]
  },
  {
   "cell_type": "raw",
   "metadata": {},
   "source": [
    "#This is what the program would look like if i didnt have functions\n",
    "#Before proceeding, you have to understand when then a motor value is on (or True), it will run until it is off (False)\n",
    "\n",
    "if arrow_key_up == True: #this means that if this key is pressed\n",
    "\n",
    "    #This will move the car forward\n",
    "    \n",
    "    motorOneForward = True #This turns on the first motor but in the forward direction\n",
    "    motorTwoForward = True #This turns on the first motor but in the forward direction\n",
    "    \n",
    "    sleep = 0.001s #this specifies how long the motors will stay on for every press of the arrow key\n",
    "    \n",
    "    motorOneForward = False\n",
    "    motorTwoForward = False \n",
    "    \n",
    "    #this turns off the motors\n",
    "    \n",
    "if arrow_key_down == True: #this means that if this key is pressed\n",
    "\n",
    "    #This will move the car backward\n",
    "    \n",
    "    motorOneBackward = True #This turns on the first motor but in the forward direction\n",
    "    motorTwoBackward = True #This turns on the first motor but in the forward direction\n",
    "    \n",
    "    sleep = 0.001s #this specifies how long the motors will stay on for every press of the arrow key\n",
    "    \n",
    "    motorOneBackward = False\n",
    "    motorTwoBackward = False \n",
    "    \n",
    "    #this turns off the motors\n",
    "\n",
    "if arrow_key_left == True: #this means that if this key is pressed\n",
    "\n",
    "    #This will move the car left \n",
    "    \n",
    "    motorOneForward = True #This turns on the first motor but in the forward direction\n",
    "    motorTwoBackward = True #This turns on the first motor but in the forward direction\n",
    "    \n",
    "    sleep = 0.001s #this specifies how long the motors will stay on for every press of the arrow key\n",
    "    \n",
    "    motorOneForward = False\n",
    "    motorTwoBackward = False \n",
    "    \n",
    "    #this turns off the motors\n",
    "    \n",
    "if arrow_key_up == True: #this means that if this key is pressed\n",
    "\n",
    "    #This will move the car right\n",
    "    \n",
    "    motorOneBackward = True #This turns on the first motor but in the forward direction\n",
    "    motorTwoForward = True #This turns on the first motor but in the forward direction\n",
    "    \n",
    "    sleep = 0.001s #this specifies how long the motors will stay on for every press of the arrow key\n",
    "    \n",
    "    motorOneBackward = False\n",
    "    motorTwoForward = False \n",
    "    \n",
    "    #this turns off the motors\n"
   ]
  },
  {
   "cell_type": "markdown",
   "metadata": {},
   "source": [
    "See how long and repetitive all this looks? Now imagine if I wanted to put in more ways that I can move the car. For example, if one of the sensor readings are true, then I want the car to move left or if this other sensor reading it true, I want the car to move forward. Writing all these commands to make the car go forward and back and left and right manually can be very time consuming and unnecessary. With functions I can do the same task I did above and more very easily. Lets see the new basic out but with functions added."
   ]
  },
  {
   "cell_type": "raw",
   "metadata": {},
   "source": [
    "#I'm going to start off by defining left, right, forward and backward as functions\n",
    "\n",
    "define Forward():\n",
    "    #This will move the car forward\n",
    "    \n",
    "    motorOneForward = True #This turns on the first motor but in the forward direction\n",
    "    motorTwoForward = True #This turns on the second motor but in the backward direction\n",
    "    \n",
    "    sleep = 0.001s #this specifies how long the motors will stay on for every press of the arrow key\n",
    "    \n",
    "    motorOneForward = False\n",
    "    motorTwoForward = False\n",
    "    \n",
    "    #this turns off the motors\n",
    "    \n",
    "define Backward():\n",
    "    #This will move the car backward\n",
    "    \n",
    "    motorOneBackward = True #This turns on the first motor but in the backward direction\n",
    "    motorTwoBackward = True #This turns on the first motor but in the backward direction\n",
    "    \n",
    "    sleep = 0.001s #this specifies how long the motors will stay on for every press of the arrow key\n",
    "    \n",
    "    motorOneBackward = False\n",
    "    motorTwoBackward = False \n",
    "    \n",
    "    #this turns off the motors\n",
    "\n",
    "define Left():\n",
    "    #This will move the car left \n",
    "    \n",
    "    motorOneForward = True #This turns on the first motor but in the forward direction\n",
    "    motorTwoBackward = True #This turns on the first motor but in the backward direction\n",
    "    \n",
    "    sleep = 0.001s #this specifies how long the motors will stay on for every press of the arrow key\n",
    "    \n",
    "    motorOneForward = False\n",
    "    motorTwoBackward = False \n",
    "    \n",
    "    #this turns off the motors\n",
    "\n",
    "define Right():\n",
    "    #This will move the car right\n",
    "    \n",
    "    motorOneBackward = True #This turns on the first motor but in the backward direction\n",
    "    motorTwoForward = True #This turns on the first motor but in the forward direction\n",
    "    \n",
    "    sleep = 0.001s #this specifies how long the motors will stay on for every press of the arrow key\n",
    "    \n",
    "    motorOneBackward = False\n",
    "    motorTwoForward = False \n",
    "    \n",
    "    #this turns off the motors\n",
    "    \n",
    "    \n",
    "    \n",
    "#And now I can put in conditions where I can not only use these when I receive any keyboard input but I can also use this for any sensor input \n",
    "\n",
    "if arrow_key_up = True: #this means that if this key is pressed\n",
    "    Forward()\n",
    "    \n",
    "if arrow_key_down = True: #this means that if this key is pressed\n",
    "    Backward()\n",
    "    \n",
    "if arrow_key_left = True: #this means that if this key is pressed\n",
    "    Left()\n",
    "    \n",
    "if arrow_key_right = True: #this means that if this key is pressed\n",
    "    Right()\n",
    "    \n",
    "\n",
    "\n",
    "if distance_sensor_reading < 15cm: #this means that if the distance of this robot is less thn 15 cm to another object\n",
    "    Left() or Right()\n",
    "    \n",
    "if touch_sensor_reading == True: #this means that if the fact that the robot gets touched by anything is true\n",
    "    Backward()"
   ]
  },
  {
   "cell_type": "markdown",
   "metadata": {},
   "source": [
    "See how introducing functions to the whole program made everything easier? I was even to put in two more conditions without making the program so clunky. \n",
    "\n",
    "Now I know this all looks a little complicated and intimidating but it really isnt. Just take your time on it, break it down. This whole thing something we call pseudo code so it isnt completely similar to the real deal but a rough representation of it. So again, take your time on it, read through it and hopefully you will be understand it. "
   ]
  },
  {
   "cell_type": "markdown",
   "metadata": {},
   "source": [
    "In functions we can add inputs as well. So how about we try creating a function that takes in something and gives us something back."
   ]
  },
  {
   "cell_type": "code",
   "execution_count": null,
   "metadata": {},
   "outputs": [],
   "source": [
    "def wat_than_7(number):\n",
    "    if number < 7:\n",
    "        print(f\"{number} is less than 7\")\n",
    "    elif number > 7:\n",
    "        print(f\"{number} is more than 7\")\n",
    "    else:\n",
    "        print(f\"{number} is equal to 7\")"
   ]
  },
  {
   "cell_type": "markdown",
   "metadata": {},
   "source": [
    "From here you see that our input is number and we enclosed within the bracket. This input is called a parameter or argument. We could've set the name of the parameter to anything we wanted so it doesnt matter. So now since, we created the function, lets call it."
   ]
  },
  {
   "cell_type": "code",
   "execution_count": null,
   "metadata": {},
   "outputs": [],
   "source": [
    "wat_than_7(5)\n",
    "wat_than_7(7)\n",
    "wat_than_7(9)\n",
    "\n",
    "number = 8 \n",
    "wat_than_7(number)\n",
    "\n",
    "numberss= 0\n",
    "wat_than_7(numberss)"
   ]
  },
  {
   "cell_type": "markdown",
   "metadata": {},
   "source": [
    "When creating functions, we're not restricted to giving one parameter, we can put 2, 3, 5 or as many as we want and they can in the form of any data type."
   ]
  },
  {
   "cell_type": "code",
   "execution_count": null,
   "metadata": {},
   "outputs": [],
   "source": [
    "def add(a, b):\n",
    "    print(a + b)"
   ]
  },
  {
   "cell_type": "code",
   "execution_count": null,
   "metadata": {},
   "outputs": [],
   "source": [
    "add(5, 9)"
   ]
  },
  {
   "cell_type": "markdown",
   "metadata": {},
   "source": [
    "Lets look at the add function we just created. It takes in 2 inputs, a and b, it adds those and prints out the result. But what if I want to store the result as a variable so that I can use it later? To do that, we use the return command. Lets see how to use it. "
   ]
  },
  {
   "cell_type": "code",
   "execution_count": null,
   "metadata": {},
   "outputs": [],
   "source": [
    "def addV2(a, b):\n",
    "    return a + b\n",
    "\n",
    "def addV3(a, b):\n",
    "    c = a + b\n",
    "    return c\n",
    "\n",
    "resultV2 = addV2(5, 5)\n",
    "resultV3 = addV3(9, 70)\n",
    "\n",
    "print(resultV2)\n",
    "print(resultV3)"
   ]
  },
  {
   "cell_type": "markdown",
   "metadata": {},
   "source": [
    "The two functions I just created are just variations of the same thing and they allow us to store whatever we get into a variable. If we used the add function that we created at first, we would get an error. Try it out for yourself"
   ]
  },
  {
   "cell_type": "code",
   "execution_count": null,
   "metadata": {},
   "outputs": [],
   "source": []
  },
  {
   "cell_type": "code",
   "execution_count": null,
   "metadata": {},
   "outputs": [],
   "source": []
  },
  {
   "cell_type": "code",
   "execution_count": null,
   "metadata": {},
   "outputs": [],
   "source": []
  },
  {
   "cell_type": "code",
   "execution_count": null,
   "metadata": {},
   "outputs": [],
   "source": []
  },
  {
   "cell_type": "markdown",
   "metadata": {},
   "source": [
    "If you look back to previous tutorials I showed you a bunch of \"commands\" such as len(), type() or even print(). These arent commands, they're actually functions. len() takes string or list as input and it returns the number of letters or elements in a string or list respectively. type() takes any type of data and returns the name our data. The print() functions takes a single type of data and it returns and displays that on our screen. There are more built in functions in python that you may need later and they'll help you out."
   ]
  },
  {
   "cell_type": "markdown",
   "metadata": {},
   "source": [
    "Now we obviously arent limited to Pythons built-in functions, I mean we can create our own but we're not limited to those as well. Software developers, roboticist, web developers, game developers, developers of all kinds around the globe create all kinds of tools that help in whatever they're trying to acheive. Often times other developers like me or you might need those same tool or they might find use in them. And these tools are usually functions or classes (we'll learn about classes later on). We can use the functions that are created by others. These functions or classes are stored in other Python files of the software package that you download. We usually call these python files, libraries.\n",
    "\n",
    "We're gonna learn how to bring those libraries and use them. The library we're gonna be using in this tutorial is called NumPy. Its a powerful number processing and mathematical library that used to by roboticist, A.I. devs and devs of all kinds. And its already downloaded onto Google Colab so you wont have to worry about downloading it. "
   ]
  },
  {
   "cell_type": "code",
   "execution_count": null,
   "metadata": {},
   "outputs": [],
   "source": [
    "import numpy #Imports the numpy library\n",
    "\n",
    "print(numpy.pi) #with the help of numpy, we can call constants like pi or e or things like cosine or sine and so on."
   ]
  },
  {
   "cell_type": "markdown",
   "metadata": {},
   "source": [
    "What I did was call the numerical constant, pi. Now I dont want to always write \"numpy.this\" or \"numpy.that\". I wanna write something shorter, maybe something like np (which is actually the convention). So heres what we do."
   ]
  },
  {
   "cell_type": "code",
   "execution_count": null,
   "metadata": {},
   "outputs": [],
   "source": [
    "import numpy as np\n",
    "\n",
    "print(np.pi)"
   ]
  },
  {
   "cell_type": "markdown",
   "metadata": {},
   "source": [
    "Lets start using numpy for something more useful."
   ]
  },
  {
   "cell_type": "code",
   "execution_count": null,
   "metadata": {},
   "outputs": [],
   "source": [
    "array1 = np.array([1, 2, 3, 4, 5, 6])\n",
    "print(array1)\n",
    "print(type(array1))"
   ]
  },
  {
   "cell_type": "markdown",
   "metadata": {},
   "source": [
    "What we just did here is we created an array and as you can see an array is a completely new data type thats from numpy."
   ]
  },
  {
   "cell_type": "code",
   "execution_count": null,
   "metadata": {},
   "outputs": [],
   "source": [
    "multiDimArray = np.array([[1, 4, 8 ,5 , 1, 8], [9, 2, 1, 2, 2, 1 ], [3, 4, 1, 6, 1, 9]])\n",
    "print(multiDimArray)"
   ]
  },
  {
   "cell_type": "markdown",
   "metadata": {},
   "source": [
    "And I just created an 3 by 6 array or a 3 by 6 matrix. Yes I can treat this array as a matrix. I can even check the shape of the array."
   ]
  },
  {
   "cell_type": "code",
   "execution_count": null,
   "metadata": {},
   "outputs": [],
   "source": [
    "print(np.shape(multiDimArray))"
   ]
  },
  {
   "cell_type": "markdown",
   "metadata": {},
   "source": [
    "I can do the same thing but with the same numbers like this"
   ]
  },
  {
   "cell_type": "code",
   "execution_count": null,
   "metadata": {},
   "outputs": [],
   "source": [
    "np.full((3, 3), 3)"
   ]
  },
  {
   "cell_type": "code",
   "execution_count": null,
   "metadata": {},
   "outputs": [],
   "source": [
    "np.eye(3,3)"
   ]
  },
  {
   "cell_type": "markdown",
   "metadata": {},
   "source": [
    "Oh woah, look at that. Recognize it? Yeah, thats a 3 by 3 identity matrix. "
   ]
  },
  {
   "cell_type": "code",
   "execution_count": null,
   "metadata": {},
   "outputs": [],
   "source": [
    "identity = np.eye(3, 3)\n",
    "\n",
    "threeby3 = np.full((3, 3), 3)\n",
    "\n",
    "m_u_l_t_p_l_i_e_D = np.dot(identity, threeby3)\n",
    "print(m_u_l_t_p_l_i_e_D)"
   ]
  },
  {
   "cell_type": "markdown",
   "metadata": {},
   "source": [
    "Woahwoahwoahwoah, did I just dot product those two matricies? Yes, yes I did. And theres a million other things you can do with this and tons of other libraries.\n",
    "\n",
    "Now you might be thinking \"Mahir vy, eigula kemne janen, eigula toh amar 5 bochor lagbe jante ami kemne korum\" (for my non-bengali audience that wants to know what that means, G O O G L E   I T. Im kidding, I pretty much just said aaaaa how do you know all this its gonna take me forever to figure out all of what you wrote on my own)\n",
    "\n",
    "And my answer to you guys is no, it will not take you forever, it could take you an hour at most if you recently discovered the internet and the magical wonders of G O O G L E, because it literally took me a whole minute. Yes, a minute.\n",
    "\n",
    "https://cs231n.github.io/python-numpy-tutorial/\n",
    "\n",
    "This is where I went to look up the numpy stuff I just wrote. And I wrote on google I wrote \"python numpy tutorials\" and this came up. Now this isn't a howToGoogle tutorials (and no that shit ain't coming anytime soon) but if you need anything (and it doesnt have to be Python related, my padawan), you can simply, google it. \n",
    "\n",
    "And if you run into that slim chance that you cant find whatever you're looking for, post the question in a forum like stackoverflow or something. \n",
    "\n",
    "But Mahir vy, what if I forget all these functions, what do I do then? \n",
    "\n",
    "Dude. Google. It. Again. I forget things all the time, ask my friends how bad I am at remembering things (And I cant even google their birthdays uurghh). I had to google the type() function that I introduced to you all a few chapters ago so chill out."
   ]
  },
  {
   "cell_type": "markdown",
   "metadata": {},
   "source": [
    "Now putting my rant session of how you all should google everything aside, this chapter was pretty big and it is just as important and hence practice and take your time on it. Read it over a few more times if you think you might struggle with it. Make sure you keep everything you've learnt until now strong because the next part and the last part is where things may get a little confusing, object oriented programming. Happy coding everyone!\n",
    "\n",
    "Oh and for those of you who were wondering what the difference between a list and an array was, dont make me say it again *insert done with life face*\n",
    "\n",
    "\n",
    "--Al Mahir Ahmed"
   ]
  },
  {
   "cell_type": "code",
   "execution_count": null,
   "metadata": {},
   "outputs": [],
   "source": []
  }
 ],
 "metadata": {
  "kernelspec": {
   "display_name": "Python 3",
   "language": "python",
   "name": "python3"
  },
  "language_info": {
   "codemirror_mode": {
    "name": "ipython",
    "version": 3
   },
   "file_extension": ".py",
   "mimetype": "text/x-python",
   "name": "python",
   "nbconvert_exporter": "python",
   "pygments_lexer": "ipython3",
   "version": "3.7.6"
  }
 },
 "nbformat": 4,
 "nbformat_minor": 4
}
