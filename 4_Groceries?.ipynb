{
 "cells": [
  {
   "cell_type": "markdown",
   "metadata": {},
   "source": [
    "Right now, we're going to learn about lists. Lists are a type of data just like string, floats and integers. In a list you can store strings, variables, floats and integers. Its sort of a container for storing these types of data. The contents that we store in a list are called elements\n",
    "\n",
    "Like most data types lists are very easy to declare. Simply make them equal to variables, strings, floats or integers that is enclosed in square brackets, and make sure to seperate multiple elements with a comma."
   ]
  },
  {
   "cell_type": "code",
   "execution_count": null,
   "metadata": {},
   "outputs": [],
   "source": [
    "first_list = [1, 2, 5, 3, 4, 2, 2]\n",
    "print(first_list)\n",
    "\n",
    "#we can see that the list is an entirely different data type\n",
    "print(type(first_list))"
   ]
  },
  {
   "cell_type": "markdown",
   "metadata": {},
   "source": [
    "We can print lists the way we can print other variables and if we look at its data type using type(), we see that it says list. As you can see we can also put in different types of data into the same list."
   ]
  },
  {
   "cell_type": "code",
   "execution_count": null,
   "metadata": {},
   "outputs": [],
   "source": [
    "string_list = ['guy', 'wat', 'clueless', 'bout', 'wat']\n",
    "print(string_list)\n",
    "both_thingy_list = ['yo', 6, 'five', 'wat', 89, 'cluelessmoments']\n",
    "print(both_thingy_list)\n",
    "hellowassup = ['bwhvcw', 'fhbrjcaren', 'edbhean', 'hbfwnrrw']\n",
    "print(hellowassup)"
   ]
  },
  {
   "cell_type": "markdown",
   "metadata": {},
   "source": [
    "If we want to print a specific element in a list, we can use this command"
   ]
  },
  {
   "cell_type": "code",
   "execution_count": null,
   "metadata": {},
   "outputs": [],
   "source": [
    "print(string_list[0])\n",
    "print(string_list[1])\n",
    "print(string_list[2])\n",
    "print(string_list[3])\n",
    "print(string_list[4])"
   ]
  },
  {
   "cell_type": "markdown",
   "metadata": {},
   "source": [
    "So what we did here is put the placement number of the element in the list (or index) and we put it in square brackets beside the name of our list. Now you might be caught off-guard with why we stopped until 4 rather than 5 because there are 5 elements in our list. Well if you haven't noticed from the loops tutorial, computers start counting from 0. They count zero as a number, I mean we do too but we don't actually start counting from zero. It may be a little hard to process if you're new to this especially, so don't worry, take your time. Try experimenting with em."
   ]
  },
  {
   "cell_type": "code",
   "execution_count": null,
   "metadata": {},
   "outputs": [],
   "source": []
  },
  {
   "cell_type": "code",
   "execution_count": null,
   "metadata": {},
   "outputs": [],
   "source": []
  },
  {
   "cell_type": "markdown",
   "metadata": {},
   "source": [
    "We can use lists inside for loops as well just like strings."
   ]
  },
  {
   "cell_type": "code",
   "execution_count": null,
   "metadata": {},
   "outputs": [],
   "source": [
    "for i in range(0, len(first_list)):\n",
    "    print(i)"
   ]
  },
  {
   "cell_type": "markdown",
   "metadata": {},
   "source": [
    "Similar to strings once again, we can iterate through the elements in a list"
   ]
  },
  {
   "cell_type": "code",
   "execution_count": null,
   "metadata": {},
   "outputs": [],
   "source": [
    "for i in both_thingy_list:\n",
    "    print(i)"
   ]
  },
  {
   "cell_type": "markdown",
   "metadata": {},
   "source": [
    "Whats cooler is that we can iterate through elements that are in the elements that are in the list. We can pretty much write each character that is inside of the string which is in the list. For this though, we would need a double for loop.\n"
   ]
  },
  {
   "cell_type": "code",
   "execution_count": null,
   "metadata": {},
   "outputs": [],
   "source": [
    "for strings in string_list:\n",
    "    for letters_in_string in strings:\n",
    "        print(letters_in_string)"
   ]
  },
  {
   "cell_type": "code",
   "execution_count": null,
   "metadata": {},
   "outputs": [],
   "source": [
    "for i in hellowassup:\n",
    "    for x in i:\n",
    "        print(x)"
   ]
  },
  {
   "cell_type": "code",
   "execution_count": null,
   "metadata": {},
   "outputs": [],
   "source": [
    "num = [1, 2, 3]\n",
    "for i in num:\n",
    "    for z in range(0, i):\n",
    "        print(\"I can be printed 6 times, becuz 1 + 2 + 3\")"
   ]
  },
  {
   "cell_type": "markdown",
   "metadata": {},
   "source": [
    "What if I want to add an element to my list? Maybe I forgot to add it in the first place or maybe its required so that my program does a certain task? Well theres a solution and its called the append command. "
   ]
  },
  {
   "cell_type": "code",
   "execution_count": null,
   "metadata": {},
   "outputs": [],
   "source": [
    "hellowassup.append(\"edwehdhwefe\")\n",
    "print(hellowassup)"
   ]
  },
  {
   "cell_type": "markdown",
   "metadata": {},
   "source": [
    "As you can see, the only input the append command takes is what you want to insert into your list, this can be a number, string or a float.\n",
    "\n",
    "Now I can put in elements, what if I want to take out an element and the solution is... wait for it... wait for it....\n",
    "\n",
    "google it.\n",
    "\n",
    "Yeah das ryt, I'm not gonna show it to you, theres a very specific command for taking an element out of a list and in the future you're gonna be googling a lot of things for help so you might as well start now and practice. "
   ]
  },
  {
   "cell_type": "markdown",
   "metadata": {},
   "source": [
    "This was a pretty small section and you should take some time to process the double for loop, and try experimenting with it as well. I recommend practicing everything you've learned till now a lot and try to mix them up a bit and make something complex. Practice is very important in order remember everything. Happy coding!"
   ]
  },
  {
   "cell_type": "code",
   "execution_count": null,
   "metadata": {},
   "outputs": [],
   "source": []
  },
  {
   "cell_type": "code",
   "execution_count": null,
   "metadata": {},
   "outputs": [],
   "source": []
  },
  {
   "cell_type": "code",
   "execution_count": null,
   "metadata": {},
   "outputs": [],
   "source": []
  },
  {
   "cell_type": "code",
   "execution_count": null,
   "metadata": {},
   "outputs": [],
   "source": []
  },
  {
   "cell_type": "code",
   "execution_count": null,
   "metadata": {},
   "outputs": [],
   "source": []
  },
  {
   "cell_type": "code",
   "execution_count": null,
   "metadata": {},
   "outputs": [],
   "source": []
  },
  {
   "cell_type": "code",
   "execution_count": null,
   "metadata": {},
   "outputs": [],
   "source": []
  },
  {
   "cell_type": "markdown",
   "metadata": {},
   "source": [
    "--Ahmed Al Mahir "
   ]
  }
 ],
 "metadata": {
  "kernelspec": {
   "display_name": "Python 3",
   "language": "python",
   "name": "python3"
  },
  "language_info": {
   "codemirror_mode": {
    "name": "ipython",
    "version": 3
   },
   "file_extension": ".py",
   "mimetype": "text/x-python",
   "name": "python",
   "nbconvert_exporter": "python",
   "pygments_lexer": "ipython3",
   "version": "3.7.6"
  }
 },
 "nbformat": 4,
 "nbformat_minor": 2
}
