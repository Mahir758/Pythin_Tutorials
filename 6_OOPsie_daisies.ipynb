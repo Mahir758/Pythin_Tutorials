{
 "cells": [
  {
   "cell_type": "markdown",
   "metadata": {},
   "source": [
    "Object. Oriented. Programming. (OOP for short) This is concept thats a little harder to grasp than most of what we learnt previously so for the millionth time, take your time. "
   ]
  },
  {
   "cell_type": "markdown",
   "metadata": {},
   "source": [
    "Okay so lets start off with us as the first and very basic example to understand whats going on. This is gonna be a very rough overview to understand whats going on and then I'll be diving deeper. We are human beings. We can walk, talk, do homework, eat and a lot more. So lets write a basic 'class' for humans (no, not the peasants, nobles, kings, bla bla bla thing)"
   ]
  },
  {
   "cell_type": "code",
   "execution_count": null,
   "metadata": {},
   "outputs": [],
   "source": [
    "class Human():\n",
    "    pass #this COMMAND (not function) tells python to not give any errors since i dont know what to fill it up with yet"
   ]
  },
  {
   "cell_type": "markdown",
   "metadata": {},
   "source": [
    "Now lets say I wanna create a Sims game. In Sims, we have human beings doing random things, such as working, walking, talking, etc. But they have very basic properties such as a name, a hair colour, an eye colour and so on. So whenever I create a simulation of the human in my Sims game, I want to able to to initiate these basic properties. "
   ]
  },
  {
   "cell_type": "markdown",
   "metadata": {},
   "source": [
    "Before attempting to initiate these properties I would like to explain the basic difference between a class and an object\n",
    "\n",
    "A class is sort of like a skeleton for whatever you're going to creating. A blueprint, if you may. For example, we may have a Building() class. Now buildings have floors, so it can be a 5 storey high building or 10 or even 31 if its a skyscrapper. So having a number of storeys is a basic attribute. Colour maybe another attribute. These are all basic properties that I would have in most buildings.\n",
    "\n",
    "Now an object is basically an instance of a class. Please note the wording I'm using here. Lets say the building you're living in is called MayerdoaEnterprises. That would mean that MayerdoaEnterprises would be an instance of the Building class. Similarly, the building your friend is living in, BaaperdoaEnterprises, would be an instance an instance of the Building class. Both of these instances are called objects (not literally speaking). Both these objects would have the basic properties that the Building class has by default. The Building class was a blueprint that I could use to create these instances more easily instead of manually defining each and every building I create. We'll look more into this example later on."
   ]
  },
  {
   "cell_type": "markdown",
   "metadata": {},
   "source": [
    "Lets go back to the human example again. So hair colour, eye colour, name, all these are properties for any human being. Lets define a human object (no humans are not objects, I'm just using the necessary programming terms). Lets call this human, Roshid."
   ]
  },
  {
   "cell_type": "code",
   "execution_count": null,
   "metadata": {},
   "outputs": [],
   "source": [
    "simsHumanOne = Human()"
   ]
  },
  {
   "cell_type": "markdown",
   "metadata": {},
   "source": [
    "Now that we created an instance of this human, I want to define this humans basic attributes."
   ]
  },
  {
   "cell_type": "code",
   "execution_count": null,
   "metadata": {},
   "outputs": [],
   "source": [
    "simsHumanOne.f_name = \"Roshid\" #First name \n",
    "simsHumanOne.l_name = \"Vy\" #Last name\n",
    "simsHumanOne.hair_colour = \"black\"\n",
    "simsHumanOne.eye_colour = \"light brown\"\n",
    "\n",
    "print(f\"the name of simsHumanOne is {simsHumanOne.f_name} {simsHumanOne.l_name}\")\n"
   ]
  },
  {
   "cell_type": "markdown",
   "metadata": {},
   "source": [
    "This is great, now we described some basic features for Roshid and we can even view them. I stored these properties or attributes in the form of \"instance variables\". An instance variable is a data that is unique to the object we create. Sure, different instances of our Human class may have different or the same coloured hair as Roshid Vy but Roshid Vy has black hair and will always have black hair until we change it because this is what we declare unique for him. Another example is that there are thousands of Sadmans or Zareens in Bangladesh but any Zareen or any Sadman is a unique Zareen or a unique Sadman even though there maybe many people with that same name.\n",
    "\n",
    "Now again, this is great but its extremely inefficient. Roshid Vy is not the only Human object I'm going to be creating. I might want to create myself as an instance of the Human class or a Maisha as an instance of the Human class or an Afifa as an instance of the Human class. So manually writing down our properties as shown above is not efficient. For this we have a solution, lets redefine our Human class and add in a few things."
   ]
  },
  {
   "cell_type": "code",
   "execution_count": null,
   "metadata": {},
   "outputs": [],
   "source": [
    "class Human():\n",
    "    \n",
    "    def __init__(self, first_name, last_name, hair_colour, eye_colour):\n",
    "        self.first_name = first_name\n",
    "        self.last_name = last_name\n",
    "        self.hair_colour = hair_colour \n",
    "        self.eye_colour = eye_colour\n",
    "\n"
   ]
  },
  {
   "cell_type": "markdown",
   "metadata": {},
   "source": [
    "Okay now I just did a crapload of things and your head probably just spun at the sight of all this writing. Before you read my explaination, break all of this down, try to figure it out for yourself and you can verify later on whether you're correct or not. \n",
    "\n",
    "Now first off you might've noticed I wrote \"def\". Why did I write \"def\"? Am I defining a function? Well sort of. When you're creating a function like this inside of a class, they're called methods. Now why did I call it \"_ _ init _ _\"? I couldve easily called it \"initialize\" or just plain \"init\" if I wanted to keep things short right? Well the Pythonic convention for creating an initialization method is to name it \" _ _ init _ _\" . (There cannot be any spaces between the underscores, for some reason, I was not able to keep them without spaces, I apologize). The init method in python is always automatically called when an object is created. It initialises the object and sets up all the instance variabes.\n",
    "\n",
    "Okay so similar to functions, we have a bunch of parameters that help define our method. The first parameter being \"self\". Anytime you create a method within a class in Python, the first parameter or arguement will always be \"self\" by default. Again its another Pythonic convention and you always have to write it. What does this \"self\" arguement actually mean? Well it doesnt really mean anything, its really just the name of object you created using the class. So if we were to use Roshid Vy as an example, the 'self' part would really be \"simsHumanOne\". Its declared as soon as you create an object or an instance of the class. \n",
    "\n",
    "Next up in our list of arguements, we have first_name, last_name, hair_colour, etc. All this is pretty much the instance variables I was telling you about. We can later declare these as we move forward in creating our Human object."
   ]
  },
  {
   "cell_type": "markdown",
   "metadata": {},
   "source": [
    "Now we have the self.first_name, self.last_name, etc. This is a little tricky, but I'll do my best to explain it.\n",
    "\n",
    "Remember when I told you that 'self' is essentially the name of the instance or object of the class. So in the previous case of our Human class for creating Roshid Vy, \"simsHumanOne\" was actually just \"self\". So if we try to compare our previous case of the Human class with our new model of the Human class, we see this,"
   ]
  },
  {
   "cell_type": "raw",
   "metadata": {},
   "source": [
    "self.first_name ==> simsHumanOne.f_name\n",
    "self.last_name  ==> simsHumanOne.l_name\n",
    "\n",
    "and so on and so forth"
   ]
  },
  {
   "cell_type": "markdown",
   "metadata": {},
   "source": [
    "The only thing thats different here if we look at the above is that the name of the instance variables are different. So instead of 'f_name' we wrote 'first_name' and same with the other one. It wouldnt really matter, you couldve replaced it with \"EiBetar_naam\" for all I care."
   ]
  },
  {
   "cell_type": "markdown",
   "metadata": {},
   "source": [
    "Next, if we look at what our new instance variables are equal to, we see that they are equal to our parameters or our arguments. We cannot change the name of those, they must be the same. \n",
    "\n",
    "Lets try creating some objects with our new Human class. I'm going to copy down the entire class because I forgot what in order the parameters were and I do not want to have to scroll up to keep looking at em."
   ]
  },
  {
   "cell_type": "code",
   "execution_count": null,
   "metadata": {},
   "outputs": [],
   "source": [
    "class Human():\n",
    "    \n",
    "    def __init__(self, first_name, last_name, hair_colour, eye_colour):\n",
    "        self.first_name = first_name\n",
    "        self.last_name = last_name\n",
    "        self.hair_colour = hair_colour \n",
    "        self.eye_colour = eye_colour\n",
    "        \n",
    "\n",
    "simsFirst = Human(\"Somey\", \"Voin\", \"black\", \"brown\")\n",
    "simsSecond = Human(\"Some\", \"Vy\", \"brown\", \"blue\")\n",
    "\n",
    "print(f\"\"\"The name of simsFirst is {simsFirst.first_name} {simsFirst.last_name}\n",
    "\n",
    "and the name of simsSecond is {simsSecond.first_name} {simsSecond.last_name}\n",
    "\n",
    "\"\"\")"
   ]
  },
  {
   "cell_type": "markdown",
   "metadata": {},
   "source": [
    "See how efficient all this just became? I can create as many Human objects as I want in a short amount of time with this basic class init method. \n",
    "\n",
    "Now heres what I want you to do. This chapter is very large and is way more important than the last. So take a break, come back, read all this again and make sure the lingo, the terms I used, the way I used them, is all concrete. Take as much time as you need on this. Understanding the terms is very key in this chapter. If you think you need to learn a bit more for now, then check out a YouTube channel or something that explains this and come back. Try implementing some of the stuff you've learnt as well."
   ]
  },
  {
   "cell_type": "code",
   "execution_count": null,
   "metadata": {},
   "outputs": [],
   "source": []
  },
  {
   "cell_type": "code",
   "execution_count": null,
   "metadata": {},
   "outputs": [],
   "source": []
  },
  {
   "cell_type": "code",
   "execution_count": null,
   "metadata": {},
   "outputs": [],
   "source": []
  },
  {
   "cell_type": "markdown",
   "metadata": {},
   "source": [
    ".\n",
    ".\n",
    ".\n",
    "Had a KitKat? Great. Lets proceed.\n",
    "\n",
    "Right now we're going to delve more into methods, a.k.a. the functions within the class. At first we saw the init method but we're not restricted to creating only just the init method. As I've mnetioned before, humans perfom a variety of tasks. All beginning with walking and all the way up to creating rockets that travel the cosmos. But we're not going to make a simulation of some dude or dudette winning the nobel prize. We're gonna give them the ability to perform basic human tasks."
   ]
  },
  {
   "cell_type": "code",
   "execution_count": null,
   "metadata": {},
   "outputs": [],
   "source": [
    "class Human():\n",
    "    \n",
    "    def __init__(self, first_name, last_name, hair_colour, eye_colour):\n",
    "        self.first_name = first_name\n",
    "        self.last_name = last_name\n",
    "        self.hair_colour = hair_colour \n",
    "        self.eye_colour = eye_colour\n",
    "        \n",
    "    def walking(self, speed):\n",
    "        self.speed = speed\n",
    "        print(f\"{self.first_name} is now walking at {self.speed} m/s\")"
   ]
  },
  {
   "cell_type": "code",
   "execution_count": null,
   "metadata": {},
   "outputs": [],
   "source": [
    "simsFirst = Human(\"Somey\", \"Voin\", \"black\", \"brown\")\n",
    "simsFirst.walking(15)"
   ]
  },
  {
   "cell_type": "markdown",
   "metadata": {},
   "source": [
    "Now if you look above we're making our \"human simulation\", \"walk\" at this speed. Obviously we dont actually have a graphical simulation. I'm not experienced in that area either but if you wanted to actually carry out a graphical simulation using Python and using a class like this, you would usually put a command that makes it object or instance move until it encounters a barrier instead printing at what speed the simulation is walking at. I'm oversimplifying the entire thing here because can't carry out a graphical simulation because I primarily have zero experience there.\n",
    "\n",
    "Now how did we call this method? Easy, I first called the instance and placed a dot and wrote the name of the function I wanted to use and input its parameters. You might be thinking if we can call the init method. Well you could try that out for yourself but what would really be the use of calling it out.\n",
    "\n",
    "I'm going to add on to this class with more human tasks and functions and I'm going to later move on to the next topic of this chapter, Inheritance. "
   ]
  },
  {
   "cell_type": "code",
   "execution_count": null,
   "metadata": {},
   "outputs": [],
   "source": [
    "class Human():\n",
    "    \n",
    "    def __init__(self, first_name, last_name, hair_colour, eye_colour):\n",
    "        self.first_name = first_name\n",
    "        self.last_name = last_name\n",
    "        self.hair_colour = hair_colour \n",
    "        self.eye_colour = eye_colour\n",
    "        \n",
    "    def movement(self, speed):\n",
    "        self.speed = speed\n",
    "        \n",
    "        if self.speed > 7:\n",
    "            print(f\"{self.first_name} is now running at {self.speed} m/s\")\n",
    "        else:\n",
    "            print(f\"{self.first_name} is now walking at {self.speed} m/s\")\n",
    "        \n",
    "    def eating(self, food):\n",
    "        self.food = food\n",
    "        print(f\"{self.first_name} is now eating {self.food}\")\n",
    "        \n",
    "    def reading(self, book):\n",
    "        self.book = book \n",
    "        print(f\"{self.first_name} is now reading {self.book}\")\n",
    "        \n",
    "        "
   ]
  },
  {
   "cell_type": "markdown",
   "metadata": {},
   "source": [
    "Now, inheritance. Strictly biologically speaking, there are three sexes: male, female and intersex (BIG NOTE: emphasis on the \"strictly biologically\" part, socially speaking I dont care what you identify as. You can identify as anything, a male, a female, a transgender person, a helicopter, I will give you the same respect that I give anyone but if you are a friend of mine, then to me you identify as trash. I'm kidding I love and respect my tras- erm - friends).\n",
    "\n",
    "MOVING ON\n",
    "\n",
    "Due of my lack of knowledge about intersex people and myself not wanting to get anything that I say about them be incorrect, I will not be using them in my example and I apologize. I will however be using males and females.\n",
    "\n",
    "Although the rights of men and women are equal and that the opportunities they have should be equal there are things that women can do that men cannot and vice versa. For example, women have the gift of being able to give birth, they're mentally stronger and smarter. But naturally men are physically more stronger than woman.\n",
    "\n",
    "What I'm basically trying to point out is that a male and a female are different types of the same species, i.e. human. And hence they have similar traits but different traits as well. \n",
    "\n",
    "I think we can all agree that both a male and a female can move, eat and read, so lets try inheriting those traits from our Human class. The way we go about this is as follows."
   ]
  },
  {
   "cell_type": "code",
   "execution_count": null,
   "metadata": {},
   "outputs": [],
   "source": [
    "class Male(Human):\n",
    "    pass\n",
    "class Female(Human):\n",
    "    pass"
   ]
  },
  {
   "cell_type": "markdown",
   "metadata": {},
   "source": [
    "And thats it, just like that we just made our Male class and our Female class inherit out basic traits from out Human class. Lets check and pass a check_bio_gender method to see if two seperate classes were actually created."
   ]
  },
  {
   "cell_type": "code",
   "execution_count": null,
   "metadata": {},
   "outputs": [],
   "source": [
    "class Male(Human):\n",
    "    \n",
    "    def check_bio_gender(self):\n",
    "        print(f\"{self.first_name} is a Male\")\n",
    "        \n",
    "class Female(Human):\n",
    "    \n",
    "    def check_bio_gender(self):\n",
    "        print(f\"{self.first_name} is a Female\")\n",
    "    \n",
    "\n",
    "simsFirst = Female(\"Somey\", \"Voin\", \"black\", \"brown\")\n",
    "simsSecond = Male(\"Some\", \"Vy\", \"brown\", \"blue\")\n",
    "\n",
    "simsFirst.check_bio_gender()\n",
    "simsSecond.check_bio_gender()"
   ]
  },
  {
   "cell_type": "markdown",
   "metadata": {},
   "source": [
    "Notice how we did not have to write down the initiation method for each of the classes. This is because that method was inherited by default from our Human class. Please note that when try to read the line\n",
    "\n",
    "class Male(Human):\n",
    "\n",
    "or \n",
    "\n",
    "class Female(Human): \n",
    "\n",
    "we're essentially saying that Male is Human and Female is Human which is quite literally true.\n",
    "\n",
    "If you wanted, you could put in different methods for the two new different classes. Lets say you put in a method named A() in the Male class and a method B() in the Female class. Only "
   ]
  },
  {
   "cell_type": "markdown",
   "metadata": {},
   "source": [
    "Now that we're hopefully more comfortable with this whole object oriented approach, lets look at a another examples."
   ]
  },
  {
   "cell_type": "code",
   "execution_count": null,
   "metadata": {},
   "outputs": [],
   "source": [
    "class HotelGuest():\n",
    "    \n",
    "    one_bed = 1000\n",
    "    two_beds = 1500\n",
    "    snack_mini_bar = 30\n",
    "    hotel_facilities = 100\n",
    "    \n",
    "    def __init__(self, first_name, last_name, cost):\n",
    "        \n",
    "        self.records = []\n",
    "        self.f_name = first_name\n",
    "        self.l_name = last_name\n",
    "        self.records.append(cost)\n",
    "        \n",
    "    def view_record(self):\n",
    "        print(\"Here are a list of your puchases: \")\n",
    "        print(self.records)\n",
    "        \n",
    "    def update_records(self, new_cost):\n",
    "        self.records.append(new_cost)\n",
    "\n",
    "    def view_total(self):\n",
    "        total_cost = 0\n",
    "        for costs in self.records:\n",
    "            total_cost += costs\n",
    "        print(\"Here is your total of all payments for your stay\")    \n",
    "        print(total_cost)\n",
    "        return total_cost\n",
    "    \n",
    "    def checkout(self, paid):\n",
    "        charged = self.view_total()\n",
    "        payment_status = False\n",
    "        if paid >= charged:\n",
    "            payment_status = True \n",
    "            change = paid = charged\n",
    "            print(\"\"\"Payment is clear.\n",
    "We hope you had a wonderful time at Yo Bois Hotel. *insert peace sign*\n",
    "Thank you\"\"\")\n",
    "            print(\"Change: \" + str(change))\n",
    "            \n",
    "        else:\n",
    "            due = charged - paid\n",
    "            print(\"Checkout not accept, you must pay \" + str(due) + \"dollars more\")\n",
    "            print(\"Thank you\")"
   ]
  },
  {
   "cell_type": "code",
   "execution_count": null,
   "metadata": {},
   "outputs": [],
   "source": [
    "guy = HotelGuest(\"some_dude\", \"one\", HotelGuest.one_bed)"
   ]
  },
  {
   "cell_type": "code",
   "execution_count": null,
   "metadata": {},
   "outputs": [],
   "source": [
    "guy.view_record()"
   ]
  },
  {
   "cell_type": "code",
   "execution_count": null,
   "metadata": {},
   "outputs": [],
   "source": [
    "guy.update_records(HotelGuest.hotel_facilities)\n",
    "guy.view_record()"
   ]
  },
  {
   "cell_type": "code",
   "execution_count": null,
   "metadata": {},
   "outputs": [],
   "source": [
    "guy.view_total()"
   ]
  },
  {
   "cell_type": "code",
   "execution_count": null,
   "metadata": {},
   "outputs": [],
   "source": [
    "guy.checkout(200)"
   ]
  },
  {
   "cell_type": "code",
   "execution_count": null,
   "metadata": {},
   "outputs": [],
   "source": [
    "guy.checkout(2000)"
   ]
  },
  {
   "cell_type": "markdown",
   "metadata": {},
   "source": [
    "So what I created here is a very hotel guest database sorta thing. Its very basic and it just goes through very basic stuff such as viewing a guests purchases or updating them for if the guest purchased anything else and then viewing the total and later checking out"
   ]
  },
  {
   "cell_type": "markdown",
   "metadata": {},
   "source": [
    "Now the very first thing you may have noticed is the variables i declared inside the class. These are called class variables and they are called so because they cannot be accessed without referring to the class itself. If you try printing one_bed you will see that it isnt defined. Thats because it isnt defined in the program but its defined within the class.\n",
    "\n",
    "What makes class variables different from instance variables is that they are the same for every object. So if I were to create another HotelGuest object, the class variable for this object would be the same as the class variable for the \"guy\" object. But if we were to access the an instance variable such as self.f_name for the \"guy\" object, it may be different from the other object. This is because instance variables are specific to the instance or object itself."
   ]
  },
  {
   "cell_type": "markdown",
   "metadata": {},
   "source": [
    "That about concludes things. I have left out a few things for you to explore for yourself in object oriented programming such as class methods, static methods or decorated or dunder methods. I mainly left these out because I haven't found the need to use them and so I never really learnt about them. I'll save you guys the trouble and paste the YouTube link of where you can learn this stuff right here: https://www.youtube.com/playlist?list=PL-osiE80TeTsqhIuOqKhwlXsIBIdSeYtc\n",
    "\n",
    "This persons name is Corey Schafer. The stuff I just showed you guys up until this point was all because I saw his videos. He has a lot more other really cool tutorials you guys can check you aside from OOP and they'll definitely help you.\n",
    "\n",
    "Thats about it, keep practicing this stuff, go over it 100 times if you have to make sure that get it. Thank you all. "
   ]
  },
  {
   "cell_type": "code",
   "execution_count": null,
   "metadata": {},
   "outputs": [],
   "source": []
  },
  {
   "cell_type": "code",
   "execution_count": null,
   "metadata": {},
   "outputs": [],
   "source": []
  },
  {
   "cell_type": "code",
   "execution_count": null,
   "metadata": {},
   "outputs": [],
   "source": []
  },
  {
   "cell_type": "code",
   "execution_count": null,
   "metadata": {},
   "outputs": [],
   "source": []
  },
  {
   "cell_type": "markdown",
   "metadata": {},
   "source": [
    "--Al Mahir Ahmed"
   ]
  }
 ],
 "metadata": {
  "kernelspec": {
   "display_name": "Python 3",
   "language": "python",
   "name": "python3"
  },
  "language_info": {
   "codemirror_mode": {
    "name": "ipython",
    "version": 3
   },
   "file_extension": ".py",
   "mimetype": "text/x-python",
   "name": "python",
   "nbconvert_exporter": "python",
   "pygments_lexer": "ipython3",
   "version": "3.7.6"
  }
 },
 "nbformat": 4,
 "nbformat_minor": 4
}
