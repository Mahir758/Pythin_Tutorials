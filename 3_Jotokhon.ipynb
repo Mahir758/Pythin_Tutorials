{
 "cells": [
  {
   "cell_type": "markdown",
   "metadata": {},
   "source": [
    "Hey again!\n",
    "\n",
    "Ready for another lesson? Lets do some loops now. "
   ]
  },
  {
   "cell_type": "markdown",
   "metadata": {},
   "source": [
    "Lets start of with the while loop.\n",
    "\n",
    "Similar to if-else statements, while loops take in conditions and as long as that condition is true, the program will continue to loop over. We looked at this in our getting started.\n",
    "\n",
    "Lets look at an example."
   ]
  },
  {
   "cell_type": "code",
   "execution_count": null,
   "metadata": {},
   "outputs": [],
   "source": [
    "while 0 == 0:\n",
    "    print(\"haha time for infinity\")"
   ]
  },
  {
   "cell_type": "markdown",
   "metadata": {},
   "source": [
    "If you run the above code you'll see thousands and thousands of (probably a lot more than that) \"haha time for infinity\"s. We call this an infinite loop. Since 0 == 0 is always true and is never gonna change, our program will continue to print out \"haha time for infinity\". I recommend stopping as your computer might start to become slow. You can do that by going up and pressing the square that is within the circle beside your code. "
   ]
  },
  {
   "cell_type": "markdown",
   "metadata": {},
   "source": [
    "Now what if we dont want it to run an infinite amount of times, what if we want the program to run about 5 times. Well we could do the follow."
   ]
  },
  {
   "cell_type": "code",
   "execution_count": null,
   "metadata": {},
   "outputs": [],
   "source": [
    "i = 0 \n",
    "\n",
    "while i < 5:\n",
    "    print(\"Heylo frens im gonna be printed 5 times\")\n",
    "    i = i + 1"
   ]
  },
  {
   "cell_type": "markdown",
   "metadata": {},
   "source": [
    "So heres what we did in the following. We first declared i as an integer variable that is equal to 0. We then told Python that as long as i is less than 5 to print \"Heylo frens im gonna be printed 5 times\". Then we told Python to add 1 to i. This is called incrementing. So we told Python to increment the variable i by 1. Then Python went back to the line that has \"while i < 5\" written and checked if i is less then 5. Since its still less than 5, it prints that line again and repeats what it did before until i is no long less than 5, but equal to 5."
   ]
  },
  {
   "cell_type": "markdown",
   "metadata": {},
   "source": [
    "This was great, we did infinite loops and some put limits on our while loops. Why dont you try doing some yourself? See if you can squeeze in some if-else statements to make the program more complex.\n"
   ]
  },
  {
   "cell_type": "code",
   "execution_count": null,
   "metadata": {},
   "outputs": [],
   "source": []
  },
  {
   "cell_type": "code",
   "execution_count": null,
   "metadata": {},
   "outputs": [],
   "source": []
  },
  {
   "cell_type": "code",
   "execution_count": null,
   "metadata": {},
   "outputs": [],
   "source": []
  },
  {
   "cell_type": "markdown",
   "metadata": {},
   "source": [
    "The while loop that had limits are great, but it turns out that we already have a something similar to that. They're called for-loops. For-loops are almost exactly like our while loops that had limits but it takes less lines. You set the amount of times you want the program to be repeated and Python loops over our program that many number of times.  "
   ]
  },
  {
   "cell_type": "code",
   "execution_count": null,
   "metadata": {},
   "outputs": [],
   "source": [
    "for z in range(0, 5):\n",
    "    print(\"Im just like that previous while loop\")\n"
   ]
  },
  {
   "cell_type": "markdown",
   "metadata": {},
   "source": [
    "So what we did here is write, \"for z\", where 'for' is the command and z is a variable that is automatically declared as an integer. Then we have \"in range(0, 5)\". This part of the code is pretty much saying within the range of 0 to an integer number that is less than 5. So z is first equal to 0 since thats where is starts from as stated in the range. It then runs the program that is within the for-loop and increments z by 1. It repeats and does this til z is equal to 4, which is an integer less than 5. Lets test this out"
   ]
  },
  {
   "cell_type": "code",
   "execution_count": null,
   "metadata": {},
   "outputs": [],
   "source": [
    "for z in range(0, 10):\n",
    "    print(f'This is loop number {z}')\n",
    "    print(f\"z is equal to {z}\")"
   ]
  },
  {
   "cell_type": "markdown",
   "metadata": {},
   "source": [
    "And here we just proved what I said previously. You can try this out yourself without different things"
   ]
  },
  {
   "cell_type": "code",
   "execution_count": null,
   "metadata": {},
   "outputs": [],
   "source": []
  },
  {
   "cell_type": "code",
   "execution_count": null,
   "metadata": {},
   "outputs": [],
   "source": []
  },
  {
   "cell_type": "markdown",
   "metadata": {},
   "source": [
    "We have this command where we can find the length of a string, its called len(). It basically tells us how many letters are in the string."
   ]
  },
  {
   "cell_type": "code",
   "execution_count": null,
   "metadata": {},
   "outputs": [],
   "source": [
    "print(len(\"poop\"))\n",
    "print(len(\"wat\"))\n",
    "print(len(\"yodolahehu\"))"
   ]
  },
  {
   "cell_type": "markdown",
   "metadata": {},
   "source": [
    "We can use this command in our for loops as well"
   ]
  },
  {
   "cell_type": "code",
   "execution_count": null,
   "metadata": {},
   "outputs": [],
   "source": [
    "for yoda in range(0, len(\"yodolahehu\")):\n",
    "    print(yoda)\n",
    "    "
   ]
  },
  {
   "cell_type": "code",
   "execution_count": null,
   "metadata": {},
   "outputs": [],
   "source": [
    "for poop in range(5, 10):\n",
    "    print(poop)"
   ]
  },
  {
   "cell_type": "markdown",
   "metadata": {},
   "source": [
    "Lets say i wanna print each letter in a word line by line and see what it looks like. I can do that using for loops.\n"
   ]
  },
  {
   "cell_type": "code",
   "execution_count": null,
   "metadata": {},
   "outputs": [],
   "source": [
    "for i in \"yodolahehu\":\n",
    "    print(i)"
   ]
  },
  {
   "cell_type": "markdown",
   "metadata": {},
   "source": [
    "What we did above is we made i become equal to every character in our string and we printed that character. We cycled through this until the last character was printed. We call this cycling, iteration. Here we were iterating through every character in our string and printing that character."
   ]
  },
  {
   "cell_type": "code",
   "execution_count": null,
   "metadata": {},
   "outputs": [],
   "source": [
    "bla = \"waaasssssuuuuuuooopp\"\n",
    "\n",
    "for i in bla:\n",
    "    print(i)"
   ]
  },
  {
   "cell_type": "markdown",
   "metadata": {},
   "source": [
    "We can not iterate through integers or floats as they're just numbers. We can simply use the range command. "
   ]
  },
  {
   "cell_type": "markdown",
   "metadata": {},
   "source": [
    "You might've noticed again that there were indentations after the for and while loops which were similar to that of the if-else statements. This is once again vital or our program won't run the way we would like it run. I'll give you a quick tip to remembering when to indent, after most of our commands (if, else, elif, while, for and in the future, def), you'll see that we write a collon ( : ). We should always make indentations in the next line of these commands, until we're done writing whatever we want until the end of the commands. Hopefully that came out easier than I thought\n",
    "\n",
    "\n",
    "Thats about all for this tutorial. You guys should practice this yourselves and see what you can do with them. Happy coding!"
   ]
  },
  {
   "cell_type": "code",
   "execution_count": null,
   "metadata": {},
   "outputs": [],
   "source": []
  },
  {
   "cell_type": "code",
   "execution_count": null,
   "metadata": {},
   "outputs": [],
   "source": []
  },
  {
   "cell_type": "code",
   "execution_count": null,
   "metadata": {},
   "outputs": [],
   "source": []
  },
  {
   "cell_type": "code",
   "execution_count": null,
   "metadata": {},
   "outputs": [],
   "source": []
  },
  {
   "cell_type": "code",
   "execution_count": null,
   "metadata": {},
   "outputs": [],
   "source": []
  },
  {
   "cell_type": "markdown",
   "metadata": {},
   "source": [
    "--Ahmed Al Mahir\n"
   ]
  }
 ],
 "metadata": {
  "kernelspec": {
   "display_name": "Python 3",
   "language": "python",
   "name": "python3"
  },
  "language_info": {
   "codemirror_mode": {
    "name": "ipython",
    "version": 3
   },
   "file_extension": ".py",
   "mimetype": "text/x-python",
   "name": "python",
   "nbconvert_exporter": "python",
   "pygments_lexer": "ipython3",
   "version": "3.7.6"
  }
 },
 "nbformat": 4,
 "nbformat_minor": 2
}
