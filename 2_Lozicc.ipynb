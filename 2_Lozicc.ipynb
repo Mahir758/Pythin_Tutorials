{
 "cells": [
  {
   "cell_type": "markdown",
   "metadata": {},
   "source": [
    "So today we're going to learn about if-else statements and some logic."
   ]
  },
  {
   "cell_type": "markdown",
   "metadata": {},
   "source": [
    "Why dont we start off with some logic? Lets say I want to make a peanut butter and jelly sandwich? What are some of the essential ingredients that I would need? Two slices of bread, some peanut butter and jelly, right? What do you put between the slices of bread? Peanut butter and jelly. You can not put just peanut butter and call it a peanut butter and jelly sandwich. Likewise, you cannot put just jelly and call it a peanut butter and jelly sandwich. You would need both peanut butter AND jelly to make the sandwich.\n",
    "\n",
    "This brings us to our first logic statement, 'and'. This stems from the logic circuit or logic gate called the AND gate. The 'and' statement works off of booleans (True/False). To obtain a \"True\" output from two inputs, you need the first input AND the second input to be true. In case of our peanut butter and jelly sandwich example, the sandwich is our output and we require that to be True so that we can get the actual sandwich. In order for that to happen we need both the peanut butter AND the jelly to be \"True\". "
   ]
  },
  {
   "cell_type": "raw",
   "metadata": {},
   "source": [
    "Input1(Boolean) AND         Input2(Boolean) ==> Output(Boolean)\n",
    "\n",
    "True            AND         False           ==> False\n",
    "\n",
    "False           AND         True            ==> False\n",
    "\n",
    "False           AND         False           ==> False \n",
    "  \n",
    "True            AND         True            ==> True "
   ]
  },
  {
   "cell_type": "markdown",
   "metadata": {},
   "source": [
    "The table above that I gave is what we call a truth table. From the truth table we can see that if at least any one of the inputs are False, the output becomes as we require both the inputs to be True. \n",
    "\n"
   ]
  },
  {
   "cell_type": "markdown",
   "metadata": {},
   "source": [
    "Lets go with our next anology for our next logic statement. Lets say we're building a small model of a building with cardboard. To stick the pieces together we'd need either hot glue or super glue. If we use just hot glue and not super glue, thats fine, we can get our model built. Likewise, if we use just super glue and not hot glue, thats fine too, we can still get out model built. If we have both hot glue and super glue, thats good as well. We can get out structure built with the two of them. But if we have neither super glue, nor hot glue, we cannot get our model built. We will need either super glue OR hot glue OR both of them but we cannot have neither of them. \n",
    "\n",
    "That brings us to the next logic statement, 'or'. Similar to the 'and' statement, the 'or' statement stemmed from the 'or' logic gate. Unlike the 'and' however, if we want output to be True from two inputs, we need either the first input or the second input to be True, and we have both inputs be True, then we will also obtain a True output. But if both of our inputs are False, our output will also be False. From our anology above, we required the creation of our model to be True. For this we would either need super glue or hot glue (which are our two inputs) or both super glue and hot glue to be True. "
   ]
  },
  {
   "cell_type": "raw",
   "metadata": {},
   "source": [
    "Input1(Boolean)  OR         Input2(Boolean) ==> Output(Boolean)\n",
    "\n",
    "False            OR         False           ==> False\n",
    "\n",
    "False            OR         True            ==> True\n",
    "\n",
    "True             OR         False           ==> True \n",
    "  \n",
    "True             OR         True            ==> True "
   ]
  },
  {
   "cell_type": "markdown",
   "metadata": {},
   "source": [
    "Now that we're over all that, lets move on to conditional statements, otherwise known as if-else statements."
   ]
  },
  {
   "cell_type": "markdown",
   "metadata": {},
   "source": [
    "The way if-else statements work is pretty simple, "
   ]
  },
  {
   "cell_type": "raw",
   "metadata": {},
   "source": [
    "if this is true\n",
    "    then do this\n",
    "or else, if this is true\n",
    "    then do this\n",
    "or else,\n",
    "    do this"
   ]
  },
  {
   "cell_type": "markdown",
   "metadata": {},
   "source": [
    "What I did here is put conditions and if my conditions were met ,i.e. if it was true, the command that I wrote after my conditions would be carried out. Lets demonstrate this in actual code."
   ]
  },
  {
   "cell_type": "code",
   "execution_count": null,
   "metadata": {},
   "outputs": [],
   "source": [
    "print(\"Is 1 equal to 1?\")\n",
    "\n",
    "if 1 == 1:\n",
    "    print(\"yes it is\")"
   ]
  },
  {
   "cell_type": "markdown",
   "metadata": {},
   "source": [
    "The first line asked the question so that there would be some context to me writing everything else. After that I wrote if 1 was equal to 1, if that was true, than I asked it to print, \"yes it is\". Notice I put 4 spaces before the print command that came after the if statement. This is called indentation and is very important in Python. If we hadn't put the four spaces, the print command would run, \"yes it is\", regardless of whether the condition is true or not"
   ]
  },
  {
   "cell_type": "code",
   "execution_count": null,
   "metadata": {},
   "outputs": [],
   "source": [
    "print(\"Is 2 equal to 3?\")\n",
    "\n",
    "if 2 == 3:\n",
    "    print(\"yes it is\")"
   ]
  },
  {
   "cell_type": "markdown",
   "metadata": {},
   "source": [
    "So here, we asked if 2 was equal to 3 but if you run the program, you'd see that the only output we get is, \"is 2 equal to 3?\". But I want an answer so that I know that the two are not equal. So heres what we can do. "
   ]
  },
  {
   "cell_type": "code",
   "execution_count": null,
   "metadata": {},
   "outputs": [],
   "source": [
    "print(\"Is 2 equal to 3?\")\n",
    "\n",
    "if 2 == 3:\n",
    "    print(\"yes it is\")\n",
    "elif 2 < 3:\n",
    "    print(\"no 2 is greater than 3\")"
   ]
  },
  {
   "cell_type": "markdown",
   "metadata": {},
   "source": [
    "And now we get our answer. What happens here is that python runs through the code, it looks at the first statement and sees if 2 is equal to 3. Since it isnt, it skips the \"print(\"yes it is\")\" line and goes to the elif statement. The elif part of the program is basically \"or else, if\". Since the condition after our elif is true, it runs the command following it, which is \"print(\"no 2 is greater than 3\")\". "
   ]
  },
  {
   "cell_type": "markdown",
   "metadata": {},
   "source": [
    "If 2 isn't greater than 3 or equal to 3, that leaves us with the option of 2 being less than 3. And that option is true, 2 is less than 3. So why not put another elif statement saying that if 2 is less than 3 then print, \"no, 2 is less than 3\"? Well we could do that and it would be correct. Or we can put in another statement, known as the else statement. The else statement is such that if all the previous conditions are not true, then do whatever is after the else statement. Its pretty much the \"or else\" part of the whole thing. Lets implement that in our above code."
   ]
  },
  {
   "cell_type": "code",
   "execution_count": null,
   "metadata": {},
   "outputs": [],
   "source": [
    "print(\"Is 2 equal to 3?\")\n",
    "\n",
    "if 2 == 3:\n",
    "    print(\"yes it is\")\n",
    "elif 2 < 3:\n",
    "    print(\"no 2 is greater than 3\")\n",
    "else:\n",
    "    print(\"no, 2 is less than 3\")"
   ]
  },
  {
   "cell_type": "markdown",
   "metadata": {},
   "source": [
    "Why don't you try doing some of you own if-else statements, and try doing some different things with them. Play around and experiment "
   ]
  },
  {
   "cell_type": "code",
   "execution_count": null,
   "metadata": {},
   "outputs": [],
   "source": []
  },
  {
   "cell_type": "code",
   "execution_count": null,
   "metadata": {},
   "outputs": [],
   "source": []
  },
  {
   "cell_type": "markdown",
   "metadata": {},
   "source": [
    "Variables can also be used in the conditions of these statements. "
   ]
  },
  {
   "cell_type": "code",
   "execution_count": null,
   "metadata": {},
   "outputs": [],
   "source": [
    "yo = 1\n",
    "ubululu = 3\n",
    "haalo = \"wassup\"\n",
    "wassup = \"wassup\"\n",
    "eyo = 5\n",
    "talapupu = \"pupu\""
   ]
  },
  {
   "cell_type": "code",
   "execution_count": null,
   "metadata": {},
   "outputs": [],
   "source": [
    "if yo == ubululu:\n",
    "    print(\"yo ubululu\")\n",
    "elif haalo == wassup:\n",
    "    print(\"haalo wassup fam\")\n",
    "elif eyo == talapupu:\n",
    "    print(\"sup talapupu\")\n",
    "elif ubululu > eyo:\n",
    "    print(\"ubululu is greater than eyo\")\n",
    "else:\n",
    "    print(\"I got no clue whats going on\")"
   ]
  },
  {
   "cell_type": "markdown",
   "metadata": {},
   "source": [
    "Remember the logic we learnt? and, or, that stuff? We can use them in our conditions as well. Lets try it out."
   ]
  },
  {
   "cell_type": "code",
   "execution_count": null,
   "metadata": {},
   "outputs": [],
   "source": [
    "if haalo > wassup:\n",
    "    print(\"haalo. wassup, ubululu\")\n",
    "elif eyo > ubululu and eyo == wassup:\n",
    "    print(\"eyo ubululu\")\n",
    "elif eyo > ubululu or haalo == talapupu:\n",
    "    print(\"wat\")\n",
    "    \n",
    "\n",
    "if haalo == wassup and ubululu > yo:\n",
    "    print(\"haalo. wassup, ubululu\")"
   ]
  },
  {
   "cell_type": "markdown",
   "metadata": {},
   "source": [
    "Try some of the things you learnt out right now and see how they work. Thats about all for this tutorial. Happy coding!"
   ]
  },
  {
   "cell_type": "code",
   "execution_count": null,
   "metadata": {},
   "outputs": [],
   "source": []
  },
  {
   "cell_type": "code",
   "execution_count": null,
   "metadata": {},
   "outputs": [],
   "source": []
  },
  {
   "cell_type": "code",
   "execution_count": null,
   "metadata": {},
   "outputs": [],
   "source": []
  },
  {
   "cell_type": "code",
   "execution_count": null,
   "metadata": {},
   "outputs": [],
   "source": []
  },
  {
   "cell_type": "markdown",
   "metadata": {},
   "source": [
    "--Ahmed Al Mahir"
   ]
  }
 ],
 "metadata": {
  "kernelspec": {
   "display_name": "Python 3",
   "language": "python",
   "name": "python3"
  },
  "language_info": {
   "codemirror_mode": {
    "name": "ipython",
    "version": 3
   },
   "file_extension": ".py",
   "mimetype": "text/x-python",
   "name": "python",
   "nbconvert_exporter": "python",
   "pygments_lexer": "ipython3",
   "version": "3.7.6"
  }
 },
 "nbformat": 4,
 "nbformat_minor": 2
}
