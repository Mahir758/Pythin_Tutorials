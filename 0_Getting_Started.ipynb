{
 "cells": [
  {
   "cell_type": "markdown",
   "metadata": {},
   "source": [
    "Hey everyone! My names Al Mahir Ahmed and this whole thing is about learning Python. For these tutorials we're gonna be using the Google Colab platform. Its extremely similar to Jupyter Notebook, if you've ever heard of that and its a platform that is mainly used in data science and machine learning but its also pretty easy to use if you wanna teach something, hence these tutorials. Now if you proceed with this tutorials I recommend using a desktop or laptop cause I dont exactly know how well this will work on mobile phones but hey, you're welcome to try.\n",
    "\n",
    "In this first tutorial I'm just gonna tell you lil bit about myself, what you'll to do this and how this platform works and other stuff like that.\n",
    "\n",
    "So I've told you my name before. As of this tutorial (year is 2020) I just graduated from my A levels and I have had zero formal education on programming related things. This is all self-taught. Never coded in school, no degree or anything so if I make any mistake in explaining the some of concepts that I have explained within these tutorials, I'll be providing my email so please do correct me. \n",
    "\n",
    "Now, Python. Python is a general purpose language meaning it could be used in most things. Its also an object orienting language which means it can follow object orienting concepts (which I will explain down the line). I'm am not solid with most other languages but I know for a fact that C++ uses something called a compiler while Python uses an interpreter. I'm not going to explain the differences between the two because its not neccesary at this point but just know what uses what. \n",
    "\n",
    "What do you need to be able learn Python and enter into this magical realm of programming? Absolutely nothing. Yup, thats right, nothing. I mean you obviously have to be able to read and have a certain motivation to code but aside from that, you need zero prerequisite knowledge to learn how to code. "
   ]
  },
  {
   "cell_type": "markdown",
   "metadata": {},
   "source": [
    "What can I do with Python? A variety of things ranging from web dev all the way stuff like artifical intelligence. I'll help you guys out by providing resources by the end of these tutorials. "
   ]
  },
  {
   "cell_type": "markdown",
   "metadata": {},
   "source": [
    "Lets learn how we can navigate through this platform. The following is gonna be your first program ever yayy. To run this program first click on it and then press Shift and then the Enter button (Return, if you're using Mac)."
   ]
  },
  {
   "cell_type": "code",
   "execution_count": null,
   "metadata": {},
   "outputs": [],
   "source": [
    "while True:\n",
    "    print(\"first program yeet and it ain't gonna be hello world boiyo/gorlio\")"
   ]
  },
  {
   "cell_type": "markdown",
   "metadata": {},
   "source": [
    "What you just ran here is an infinite loop. We'll learn a bit more about those later on. What I just wanna show you here is how to stop it. Scroll up and then press the box thats within the circle to stop the program. \n",
    "\n",
    "Great you stopped it. Now lets learn how to add these coding lines. In the tutorials I usually give you lines so you can experiment or try things out for yourself but if you need more then look to the top and you'll see a \"+ Code\". Click on it and now you have an additional line of code. If you for some reason wanna write things that arent code then click on \"+ Text\" "
   ]
  },
  {
   "cell_type": "markdown",
   "metadata": {},
   "source": [
    "Thats all for this one, if you wanna do anything else that I havent mentioned here for some reason, look it up. If you run into any problems or have problems understanding or if I made a mistake (be it conceptual or grammar and I probably made a crapload of grammar errors so try to ignore em plz) email me at ahmedalmahir5@gmail.com. Constructive criticism or feedback of any kind is welcome. Hope this helps you all out and thanks you!"
   ]
  },
  {
   "cell_type": "markdown",
   "metadata": {},
   "source": [
    "-- Al Mahir Ahmed "
   ]
  },
  {
   "cell_type": "code",
   "execution_count": null,
   "metadata": {},
   "outputs": [],
   "source": []
  }
 ],
 "metadata": {
  "kernelspec": {
   "display_name": "Python 3",
   "language": "python",
   "name": "python3"
  },
  "language_info": {
   "codemirror_mode": {
    "name": "ipython",
    "version": 3
   },
   "file_extension": ".py",
   "mimetype": "text/x-python",
   "name": "python",
   "nbconvert_exporter": "python",
   "pygments_lexer": "ipython3",
   "version": "3.7.6"
  }
 },
 "nbformat": 4,
 "nbformat_minor": 4
}
